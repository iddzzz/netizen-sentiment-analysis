{
 "cells": [
  {
   "cell_type": "markdown",
   "metadata": {},
   "source": [
    "# Clustering"
   ]
  },
  {
   "cell_type": "markdown",
   "metadata": {},
   "source": [
    "## KMeans"
   ]
  },
  {
   "cell_type": "code",
   "execution_count": 34,
   "metadata": {},
   "outputs": [
    {
     "name": "stdout",
     "output_type": "stream",
     "text": [
      "758\n"
     ]
    },
    {
     "data": {
      "text/html": [
       "<div>\n",
       "<style scoped>\n",
       "    .dataframe tbody tr th:only-of-type {\n",
       "        vertical-align: middle;\n",
       "    }\n",
       "\n",
       "    .dataframe tbody tr th {\n",
       "        vertical-align: top;\n",
       "    }\n",
       "\n",
       "    .dataframe thead th {\n",
       "        text-align: right;\n",
       "    }\n",
       "</style>\n",
       "<table border=\"1\" class=\"dataframe\">\n",
       "  <thead>\n",
       "    <tr style=\"text-align: right;\">\n",
       "      <th></th>\n",
       "      <th>id</th>\n",
       "      <th>name</th>\n",
       "      <th>username</th>\n",
       "      <th>date</th>\n",
       "      <th>reply_to</th>\n",
       "      <th>content</th>\n",
       "      <th>reply</th>\n",
       "      <th>retweet</th>\n",
       "      <th>like</th>\n",
       "      <th>lang</th>\n",
       "      <th>mentions</th>\n",
       "      <th>content_clean</th>\n",
       "    </tr>\n",
       "  </thead>\n",
       "  <tbody>\n",
       "    <tr>\n",
       "      <th>0</th>\n",
       "      <td>DedenSujanaFeb12021Simak b</td>\n",
       "      <td>Deden Sujana</td>\n",
       "      <td>@dedensujana</td>\n",
       "      <td>2021-02-01</td>\n",
       "      <td>NaN</td>\n",
       "      <td>Simak bagaimana sikap Khilafah Ahmadiyah terha...</td>\n",
       "      <td>0</td>\n",
       "      <td>1</td>\n",
       "      <td>2</td>\n",
       "      <td>id</td>\n",
       "      <td>@Iskandargumay1</td>\n",
       "      <td>Simak bagaimana sikap Khilafah Ahmadiyah terha...</td>\n",
       "    </tr>\n",
       "    <tr>\n",
       "      <th>1</th>\n",
       "      <td>MuridIslamAhmadiyahFeb12021nah say</td>\n",
       "      <td>MuridIslamAhmadiyah</td>\n",
       "      <td>@MAhmadiyah</td>\n",
       "      <td>2021-02-01</td>\n",
       "      <td>@akbarnugrohoa</td>\n",
       "      <td>nah saya ulang ya. silahkan temukan pernyataan...</td>\n",
       "      <td>1</td>\n",
       "      <td>0</td>\n",
       "      <td>0</td>\n",
       "      <td>id</td>\n",
       "      <td>NaN</td>\n",
       "      <td>nah saya ulang ya. silahkan temukan pernyataan...</td>\n",
       "    </tr>\n",
       "    <tr>\n",
       "      <th>2</th>\n",
       "      <td>risrisismanFeb12021Sebenar</td>\n",
       "      <td>risris isman</td>\n",
       "      <td>@risrisus</td>\n",
       "      <td>2021-02-01</td>\n",
       "      <td>@susipudjiastuti</td>\n",
       "      <td>Sebenarnya mengomentari \\n@permadiaktivis1\\n l...</td>\n",
       "      <td>0</td>\n",
       "      <td>0</td>\n",
       "      <td>1</td>\n",
       "      <td>id</td>\n",
       "      <td>@permadiaktivis1</td>\n",
       "      <td>Sebenarnya mengomentari lebih politis dari pad...</td>\n",
       "    </tr>\n",
       "    <tr>\n",
       "      <th>3</th>\n",
       "      <td>MuridIslamAhmadiyahJan312021adakah</td>\n",
       "      <td>MuridIslamAhmadiyah</td>\n",
       "      <td>@MAhmadiyah</td>\n",
       "      <td>2021-01-31</td>\n",
       "      <td>@akbarnugrohoa</td>\n",
       "      <td>adakah pernyataan dari Ahmadiyah bahwa nabi pe...</td>\n",
       "      <td>0</td>\n",
       "      <td>0</td>\n",
       "      <td>0</td>\n",
       "      <td>id</td>\n",
       "      <td>NaN</td>\n",
       "      <td>adakah pernyataan dari Ahmadiyah bahwa nabi pe...</td>\n",
       "    </tr>\n",
       "    <tr>\n",
       "      <th>4</th>\n",
       "      <td>MuridIslamAhmadiyahJan312021itu vid</td>\n",
       "      <td>MuridIslamAhmadiyah</td>\n",
       "      <td>@MAhmadiyah</td>\n",
       "      <td>2021-01-31</td>\n",
       "      <td>@akbarnugrohoa</td>\n",
       "      <td>itu video udh video udh menjelaskan penafsiran...</td>\n",
       "      <td>1</td>\n",
       "      <td>0</td>\n",
       "      <td>0</td>\n",
       "      <td>id</td>\n",
       "      <td>NaN</td>\n",
       "      <td>itu video udh video udh menjelaskan penafsiran...</td>\n",
       "    </tr>\n",
       "  </tbody>\n",
       "</table>\n",
       "</div>"
      ],
      "text/plain": [
       "                                    id                 name      username  \\\n",
       "0           DedenSujanaFeb12021Simak b         Deden Sujana  @dedensujana   \n",
       "1   MuridIslamAhmadiyahFeb12021nah say  MuridIslamAhmadiyah   @MAhmadiyah   \n",
       "2           risrisismanFeb12021Sebenar         risris isman     @risrisus   \n",
       "3  MuridIslamAhmadiyahJan312021adakah   MuridIslamAhmadiyah   @MAhmadiyah   \n",
       "4  MuridIslamAhmadiyahJan312021itu vid  MuridIslamAhmadiyah   @MAhmadiyah   \n",
       "\n",
       "         date          reply_to  \\\n",
       "0  2021-02-01               NaN   \n",
       "1  2021-02-01    @akbarnugrohoa   \n",
       "2  2021-02-01  @susipudjiastuti   \n",
       "3  2021-01-31    @akbarnugrohoa   \n",
       "4  2021-01-31    @akbarnugrohoa   \n",
       "\n",
       "                                             content  reply  retweet  like  \\\n",
       "0  Simak bagaimana sikap Khilafah Ahmadiyah terha...      0        1     2   \n",
       "1  nah saya ulang ya. silahkan temukan pernyataan...      1        0     0   \n",
       "2  Sebenarnya mengomentari \\n@permadiaktivis1\\n l...      0        0     1   \n",
       "3  adakah pernyataan dari Ahmadiyah bahwa nabi pe...      0        0     0   \n",
       "4  itu video udh video udh menjelaskan penafsiran...      1        0     0   \n",
       "\n",
       "  lang          mentions                                      content_clean  \n",
       "0   id   @Iskandargumay1  Simak bagaimana sikap Khilafah Ahmadiyah terha...  \n",
       "1   id               NaN  nah saya ulang ya. silahkan temukan pernyataan...  \n",
       "2   id  @permadiaktivis1  Sebenarnya mengomentari lebih politis dari pad...  \n",
       "3   id               NaN  adakah pernyataan dari Ahmadiyah bahwa nabi pe...  \n",
       "4   id               NaN  itu video udh video udh menjelaskan penafsiran...  "
      ]
     },
     "execution_count": 34,
     "metadata": {},
     "output_type": "execute_result"
    }
   ],
   "source": [
    "import pandas as pd\n",
    "import json\n",
    "import matplotlib.pyplot as plt\n",
    "import seaborn as sns\n",
    "from tqdm import tqdm\n",
    "\n",
    "df = pd.read_csv('./data/tweet-clean.csv')\n",
    "\n",
    "with open('stopwords-id.json', 'r') as f:\n",
    "    stopwords = json.load(f)\n",
    "\n",
    "print(len(stopwords))\n",
    "df.head()"
   ]
  },
  {
   "cell_type": "code",
   "execution_count": 13,
   "metadata": {},
   "outputs": [
    {
     "name": "stderr",
     "output_type": "stream",
     "text": [
      "D:\\equipments\\miniconda\\envs\\iddzzz\\lib\\site-packages\\sklearn\\feature_extraction\\text.py:396: UserWarning: Your stop_words may be inconsistent with your preprocessing. Tokenizing the stop words generated tokens ['baiknya', 'berkali', 'kali', 'kurangnya', 'mata', 'olah', 'sekurang', 'setidak', 'tama', 'tidaknya'] not in stop_words.\n",
      "  warnings.warn(\n"
     ]
    }
   ],
   "source": [
    "from sklearn.feature_extraction.text import TfidfVectorizer\n",
    "from sklearn.cluster import KMeans\n",
    "\n",
    "tfidf = TfidfVectorizer(stop_words=stopwords)\n",
    "\n",
    "df_content = df['content_clean'][~df.content_clean.isna()]\n",
    "\n",
    "csr_mat = tfidf.fit_transform(df_content)"
   ]
  },
  {
   "cell_type": "code",
   "execution_count": 17,
   "metadata": {},
   "outputs": [
    {
     "ename": "NameError",
     "evalue": "name 'model_predict' is not defined",
     "output_type": "error",
     "traceback": [
      "\u001b[1;31m---------------------------------------------------------------------------\u001b[0m",
      "\u001b[1;31mNameError\u001b[0m                                 Traceback (most recent call last)",
      "\u001b[1;32m<ipython-input-17-5b8129629417>\u001b[0m in \u001b[0;36m<module>\u001b[1;34m\u001b[0m\n\u001b[0;32m      1\u001b[0m \u001b[0mkmeans\u001b[0m \u001b[1;33m=\u001b[0m \u001b[0mKMeans\u001b[0m\u001b[1;33m(\u001b[0m\u001b[0mn_clusters\u001b[0m\u001b[1;33m=\u001b[0m\u001b[1;36m12\u001b[0m\u001b[1;33m)\u001b[0m\u001b[1;33m\u001b[0m\u001b[1;33m\u001b[0m\u001b[0m\n\u001b[0;32m      2\u001b[0m \u001b[0mkmeans\u001b[0m\u001b[1;33m.\u001b[0m\u001b[0mfit\u001b[0m\u001b[1;33m(\u001b[0m\u001b[0mcsr_mat\u001b[0m\u001b[1;33m)\u001b[0m\u001b[1;33m\u001b[0m\u001b[1;33m\u001b[0m\u001b[0m\n\u001b[1;32m----> 3\u001b[1;33m \u001b[0mlabels\u001b[0m \u001b[1;33m=\u001b[0m \u001b[0mmodel_predict\u001b[0m\u001b[1;33m(\u001b[0m\u001b[0mcsr_mat\u001b[0m\u001b[1;33m)\u001b[0m\u001b[1;33m\u001b[0m\u001b[1;33m\u001b[0m\u001b[0m\n\u001b[0m",
      "\u001b[1;31mNameError\u001b[0m: name 'model_predict' is not defined"
     ]
    }
   ],
   "source": [
    "kmeans = KMeans(n_clusters=12)\n",
    "kmeans.fit(csr_mat)"
   ]
  },
  {
   "cell_type": "code",
   "execution_count": 18,
   "metadata": {},
   "outputs": [],
   "source": [
    "labels = kmeans.predict(csr_mat)"
   ]
  },
  {
   "cell_type": "code",
   "execution_count": 37,
   "metadata": {},
   "outputs": [
    {
     "name": "stderr",
     "output_type": "stream",
     "text": [
      "100%|████████████████████████████████████████████████████████████████████████████████████| 9/9 [10:39<00:00, 71.07s/it]\n"
     ]
    }
   ],
   "source": [
    "x = [i for i in range(10, 100, 10)]\n",
    "y = []\n",
    "\n",
    "for i in tqdm(x):\n",
    "    kmeans = KMeans(n_clusters=i)\n",
    "    kmeans.fit(csr_mat)\n",
    "    y.append(kmeans.inertia_)\n"
   ]
  },
  {
   "cell_type": "code",
   "execution_count": 38,
   "metadata": {},
   "outputs": [
    {
     "data": {
      "image/png": "[encoded data removed]",
      "text/plain": [
       "<Figure size 864x432 with 1 Axes>"
      ]
     },
     "metadata": {
      "needs_background": "light"
     },
     "output_type": "display_data"
    }
   ],
   "source": [
    "fig = plt.figure(figsize=(12, 6))\n",
    "plt.plot(x, y)\n",
    "plt.xlabel(\"n clusters\")\n",
    "plt.ylabel(\"inertia\")\n",
    "plt.xticks()\n",
    "plt.show()"
   ]
  },
  {
   "cell_type": "code",
   "execution_count": null,
   "metadata": {},
   "outputs": [],
   "source": []
  }
 ],
 "metadata": {
  "kernelspec": {
   "display_name": "Python 3",
   "language": "python",
   "name": "python3"
  },
  "language_info": {
   "codemirror_mode": {
    "name": "ipython",
    "version": 3
   },
   "file_extension": ".py",
   "mimetype": "text/x-python",
   "name": "python",
   "nbconvert_exporter": "python",
   "pygments_lexer": "ipython3",
   "version": "3.9.7"
  }
 },
 "nbformat": 4,
 "nbformat_minor": 4
}
